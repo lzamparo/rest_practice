{
 "cells": [
  {
   "cell_type": "code",
   "execution_count": 1,
   "metadata": {},
   "outputs": [],
   "source": [
    "import os\n",
    "\n",
    "from dataclasses import dataclass, field\n",
    "from data_io.bio_data_query import PubMedClient, PubMedQuery\n",
    "from data_io.bio_data_query import StringDBClient\n",
    "from hydra.core.config_store import ConfigStore\n",
    "from hydra import compose, initialize\n",
    "from omegaconf import OmegaConf\n",
    "from llm.llm_messenger import LLMMessenger\n"
   ]
  },
  {
   "cell_type": "code",
   "execution_count": 2,
   "metadata": {},
   "outputs": [],
   "source": [
    "@dataclass\n",
    "class PubmedTerms:\n",
    "    terms: list[str] = field(default_factory=list)\n",
    "    fields: list[str] = field(default_factory=list)\n",
    "\n",
    "\n",
    "@dataclass\n",
    "class StringTerms:\n",
    "    gene_names: list[str] = field(default_factory=list)\n",
    "    species: int = 0\n",
    "\n",
    "\n",
    "@dataclass\n",
    "class LlmConfig:\n",
    "    model_specification: str = \"\"\n",
    "    instructions: str = \"\"\n",
    "\n",
    "\n",
    "@dataclass\n",
    "class ConfigData:\n",
    "    pubmed_terms: PubmedTerms = field(default_factory=PubmedTerms)\n",
    "    string_terms: StringTerms = field(default_factory=StringTerms)\n",
    "    llm_config: LlmConfig = field(default_factory=LlmConfig)\n",
    "\n",
    "\n",
    "cs = ConfigStore.instance()\n",
    "cs.store(name=\"config_schema\", node=ConfigData)\n"
   ]
  },
  {
   "cell_type": "code",
   "execution_count": 3,
   "metadata": {},
   "outputs": [
    {
     "name": "stdout",
     "output_type": "stream",
     "text": [
      "pubmed_terms:\n",
      "  terms:\n",
      "  - Nonalcoholic Steatohepatitis\n",
      "  - NASH\n",
      "  - LILRB2\n",
      "  fields:\n",
      "  - tiab\n",
      "  - tiab\n",
      "  - tw\n",
      "string_terms:\n",
      "  gene_names:\n",
      "  - LILRB2\n",
      "  species: 9606\n",
      "llm_config:\n",
      "  model_specification: models/gemini-1.5-flash\n",
      "  instructions: ../data/hypothesis_prompt_instructions.txt\n",
      "\n"
     ]
    }
   ],
   "source": [
    "os.getcwd()\n",
    "# Initialize Hydra and load the config\n",
    "with initialize(version_base=None, config_path=\"./cfg\"):\n",
    "    cfg = compose(config_name=\"lilrb2\")\n",
    "\n",
    "# Now you can use the config\n",
    "print(OmegaConf.to_yaml(cfg))\n",
    "config_obj = OmegaConf.to_object(cfg)"
   ]
  },
  {
   "cell_type": "code",
   "execution_count": 6,
   "metadata": {},
   "outputs": [],
   "source": [
    "pubmed_client = PubMedClient()\n",
    "pubmed_query = PubMedQuery(\n",
    "    terms=cfg.pubmed_terms.terms, fields=cfg.pubmed_terms.fields\n",
    ")\n",
    "pubmed_query_response = pubmed_client.search(pubmed_query)\n",
    "\n",
    "llm = LLMMessenger()\n",
    "string_db_client = StringDBClient()\n",
    "string_response = string_db_client.search(\n",
    "    terms=cfg.string_terms.gene_names, species=cfg.string_terms.species\n",
    ")\n",
    "string_response_list_str = string_db_client.response_to_strings(string_response)"
   ]
  },
  {
   "cell_type": "code",
   "execution_count": null,
   "metadata": {},
   "outputs": [
    {
     "data": {
      "text/plain": [
       "str"
      ]
     },
     "execution_count": 9,
     "metadata": {},
     "output_type": "execute_result"
    }
   ],
   "source": [
    "# pubmed_response is str, strings_response_list_Str is list of strs\n",
    "# need to get the instructions, form the "
   ]
  },
  {
   "cell_type": "code",
   "execution_count": null,
   "metadata": {},
   "outputs": [
    {
     "data": {
      "text/plain": [
       "[\"{'stringId_A': '9606.ENSP00000375629', 'stringId_B': '9606.ENSP00000366024', 'preferredName_A': 'LILRB2', 'preferredName_B': 'HLA-G', 'ncbiTaxonId': '9606', 'score': '0.999', 'nscore': '0', 'fscore': '0', 'pscore': '0', 'ascore': '0', 'escore': '0.955', 'dscore': '0.5', 'tscore': '0.982'}\",\n",
       " \"{'stringId_A': '9606.ENSP00000375629', 'stringId_B': '9606.ENSP00000379873', 'preferredName_A': 'LILRB2', 'preferredName_B': 'HLA-A', 'ncbiTaxonId': '9606', 'score': '0.984', 'nscore': '0', 'fscore': '0', 'pscore': '0', 'ascore': '0', 'escore': '0.405', 'dscore': '0.5', 'tscore': '0.953'}\",\n",
       " \"{'stringId_A': '9606.ENSP00000375629', 'stringId_B': '9606.ENSP00000259951', 'preferredName_A': 'LILRB2', 'preferredName_B': 'HLA-F', 'ncbiTaxonId': '9606', 'score': '0.983', 'nscore': '0', 'fscore': '0', 'pscore': '0', 'ascore': '0', 'escore': '0.549', 'dscore': '0.5', 'tscore': '0.933'}\",\n",
       " \"{'stringId_A': '9606.ENSP00000375629', 'stringId_B': '9606.ENSP00000399168', 'preferredName_A': 'LILRB2', 'preferredName_B': 'HLA-B', 'ncbiTaxonId': '9606', 'score': '0.981', 'nscore': '0', 'fscore': '0', 'pscore': '0', 'ascore': '0', 'escore': '0.549', 'dscore': '0.5', 'tscore': '0.925'}\",\n",
       " \"{'stringId_A': '9606.ENSP00000375629', 'stringId_B': '9606.ENSP00000497910', 'preferredName_A': 'LILRB2', 'preferredName_B': 'B2M', 'ncbiTaxonId': '9606', 'score': '0.979', 'nscore': '0', 'fscore': '0', 'pscore': '0', 'ascore': '0', 'escore': '0.96', 'dscore': '0.5', 'tscore': '0'}\",\n",
       " \"{'stringId_A': '9606.ENSP00000375629', 'stringId_B': '9606.ENSP00000362524', 'preferredName_A': 'LILRB2', 'preferredName_B': 'ANGPTL2', 'ncbiTaxonId': '9606', 'score': '0.963', 'nscore': '0', 'fscore': '0', 'pscore': '0', 'ascore': '0', 'escore': '0.483', 'dscore': '0', 'tscore': '0.932'}\",\n",
       " \"{'stringId_A': '9606.ENSP00000375629', 'stringId_B': '9606.ENSP00000391592', 'preferredName_A': 'LILRB2', 'preferredName_B': 'PTPN6', 'ncbiTaxonId': '9606', 'score': '0.943', 'nscore': '0', 'fscore': '0', 'pscore': '0', 'ascore': '0', 'escore': '0.457', 'dscore': '0.9', 'tscore': '0'}\",\n",
       " \"{'stringId_A': '9606.ENSP00000375629', 'stringId_B': '9606.ENSP00000364898', 'preferredName_A': 'LILRB2', 'preferredName_B': 'SYK', 'ncbiTaxonId': '9606', 'score': '0.9', 'nscore': '0', 'fscore': '0', 'pscore': '0', 'ascore': '0', 'escore': '0', 'dscore': '0.9', 'tscore': '0'}\",\n",
       " \"{'stringId_A': '9606.ENSP00000375629', 'stringId_B': '9606.ENSP00000365402', 'preferredName_A': 'LILRB2', 'preferredName_B': 'HLA-C', 'ncbiTaxonId': '9606', 'score': '0.89', 'nscore': '0', 'fscore': '0', 'pscore': '0', 'ascore': '0', 'escore': '0.549', 'dscore': '0.5', 'tscore': '0.555'}\",\n",
       " \"{'stringId_A': '9606.ENSP00000375629', 'stringId_B': '9606.ENSP00000359345', 'preferredName_A': 'LILRB2', 'preferredName_B': 'RPL5', 'ncbiTaxonId': '9606', 'score': '0.755', 'nscore': '0', 'fscore': '0', 'pscore': '0', 'ascore': '0', 'escore': '0', 'dscore': '0', 'tscore': '0.755'}\"]"
      ]
     },
     "execution_count": 5,
     "metadata": {},
     "output_type": "execute_result"
    }
   ],
   "source": [
    "# "
   ]
  },
  {
   "cell_type": "code",
   "execution_count": null,
   "metadata": {},
   "outputs": [],
   "source": []
  }
 ],
 "metadata": {
  "kernelspec": {
   "display_name": ".venv",
   "language": "python",
   "name": "python3"
  },
  "language_info": {
   "codemirror_mode": {
    "name": "ipython",
    "version": 3
   },
   "file_extension": ".py",
   "mimetype": "text/x-python",
   "name": "python",
   "nbconvert_exporter": "python",
   "pygments_lexer": "ipython3",
   "version": "3.12.8"
  }
 },
 "nbformat": 4,
 "nbformat_minor": 2
}
