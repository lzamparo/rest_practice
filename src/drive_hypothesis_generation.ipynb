{
 "cells": [
  {
   "cell_type": "code",
   "execution_count": null,
   "metadata": {},
   "outputs": [],
   "source": [
    "import os\n",
    "\n",
    "from dataclasses import dataclass, field\n",
    "from data_io.bio_data_query import PubMedClient, PubMedQuery\n",
    "from data_io.bio_data_query import StringDBClient\n",
    "from hydra.core.config_store import ConfigStore\n",
    "from hydra import compose, initialize\n",
    "from omegaconf import OmegaConf\n",
    "from llm.llm_messenger import LLMMessenger\n"
   ]
  },
  {
   "cell_type": "code",
   "execution_count": null,
   "metadata": {},
   "outputs": [],
   "source": [
    "@dataclass\n",
    "class PubmedTerms:\n",
    "    terms: list[str] = field(default_factory=list)\n",
    "    fields: list[str] = field(default_factory=list)\n",
    "    retmax: int = field(default_factory=int)\n",
    "\n",
    "\n",
    "@dataclass\n",
    "class StringTerms:\n",
    "    gene_names: list[str] = field(default_factory=list)\n",
    "    species: int = 0\n",
    "\n",
    "\n",
    "@dataclass\n",
    "class LlmConfig:\n",
    "    model_specification: str = \"\"\n",
    "    instructions: str = \"\"\n",
    "\n",
    "\n",
    "@dataclass\n",
    "class ConfigData:\n",
    "    pubmed_terms: PubmedTerms = field(default_factory=PubmedTerms)\n",
    "    string_terms: StringTerms = field(default_factory=StringTerms)\n",
    "    llm_config: LlmConfig = field(default_factory=LlmConfig)\n",
    "\n",
    "\n",
    "cs = ConfigStore.instance()\n",
    "cs.store(name=\"config_schema\", node=ConfigData)\n"
   ]
  },
  {
   "cell_type": "code",
   "execution_count": null,
   "metadata": {},
   "outputs": [],
   "source": [
    "os.getcwd()\n",
    "# Initialize Hydra and load the config\n",
    "with initialize(version_base=None, config_path=\"./cfg\"):\n",
    "    cfg = compose(config_name=\"lilrb2\")\n",
    "\n",
    "# Now you can use the config\n",
    "print(OmegaConf.to_yaml(cfg))\n",
    "config_obj = OmegaConf.to_object(cfg)"
   ]
  },
  {
   "cell_type": "code",
   "execution_count": null,
   "metadata": {},
   "outputs": [],
   "source": [
    "pubmed_client = PubMedClient()\n",
    "pubmed_query = PubMedQuery(\n",
    "    terms=cfg.pubmed_terms.terms, fields=cfg.pubmed_terms.fields\n",
    ")\n",
    "pubmed_query_response = pubmed_client.search(pubmed_query, retmax=cfg.pubmed_terms.retmax)\n",
    "\n",
    "llm = LLMMessenger()\n",
    "string_db_client = StringDBClient()\n",
    "string_response = string_db_client.search(\n",
    "    terms=cfg.string_terms.gene_names, species=cfg.string_terms.species\n",
    ")\n",
    "string_response_list_str = string_db_client.response_to_strings(string_response)"
   ]
  },
  {
   "cell_type": "code",
   "execution_count": null,
   "metadata": {},
   "outputs": [],
   "source": [
    "# pubmed_response is str, strings_response_list_Str is list of strs\n",
    "# need to get the instructions, form the query\n",
    "instructions = llm._get_hypothesis_instructions(cfg.llm_config.instructions)\n",
    "for line in instructions:\n",
    "    print(line)\n",
    "\n",
    "context = [pubmed_query_response]\n",
    "context.extend(string_response_list_str)\n",
    "query = [f\"Considering the evidence in the context, what are some plausible hypotheses for the role of {cfg.string_terms.gene_names[0]} in the manifestation of {cfg.pubmed_terms.terms[0]}?\"]"
   ]
  },
  {
   "cell_type": "code",
   "execution_count": null,
   "metadata": {},
   "outputs": [],
   "source": [
    "response = llm.generate_response(query=query, model_specification=cfg.llm_config.model_specification, context=context, instructions=instructions)"
   ]
  },
  {
   "cell_type": "code",
   "execution_count": null,
   "metadata": {},
   "outputs": [],
   "source": [
    "print(response.text)"
   ]
  },
  {
   "cell_type": "code",
   "execution_count": null,
   "metadata": {},
   "outputs": [],
   "source": []
  }
 ],
 "metadata": {
  "kernelspec": {
   "display_name": ".venv",
   "language": "python",
   "name": "python3"
  },
  "language_info": {
   "codemirror_mode": {
    "name": "ipython",
    "version": 3
   },
   "file_extension": ".py",
   "mimetype": "text/x-python",
   "name": "python",
   "nbconvert_exporter": "python",
   "pygments_lexer": "ipython3",
   "version": "3.12.8"
  }
 },
 "nbformat": 4,
 "nbformat_minor": 2
}
